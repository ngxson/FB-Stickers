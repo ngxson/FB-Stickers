{
 "cells": [
  {
   "cell_type": "markdown",
   "metadata": {},
   "source": [
    "# Convert Facebook sticker to GIF\n",
    "\n",
    "Bạn cần có:\n",
    "- python 3\n",
    "- `pip install pillow`\n",
    "- Sticker đã download từ facebook (để trong thư mục **input**), có dạng tên file như sau:  \n",
    "`(StickerID)_(Tổng số cột)_(Tổng số hàng)_(Tổng số ảnh)_(Frame rate).png`"
   ]
  },
  {
   "cell_type": "code",
   "execution_count": 22,
   "metadata": {},
   "outputs": [],
   "source": [
    "from PIL import Image\n",
    "from PIL import GifImagePlugin\n",
    "from PIL import ImageSequence\n",
    "from os import listdir\n",
    "from os.path import isfile, join\n",
    "from IPython.display import display"
   ]
  },
  {
   "cell_type": "code",
   "execution_count": 26,
   "metadata": {},
   "outputs": [],
   "source": [
    "img = Image.open('1.webp').convert('RGBA')\n",
    "\n",
    "for i, frame in enumerate(ImageSequence.Iterator(img)):\n",
    "    img.save(str(i)+'.gif', 'GIF', save_all=True)"
   ]
  },
  {
   "cell_type": "code",
   "execution_count": 2,
   "metadata": {
    "collapsed": true
   },
   "outputs": [],
   "source": [
    "def generateCoords(tcol, trow, w, h):\n",
    "    out = []\n",
    "    dx = w // tcol\n",
    "    dy = h // trow\n",
    "    for row in range(0, trow):\n",
    "        for col in range(0, tcol):\n",
    "            x1 = col * dx\n",
    "            y1 = row * dy\n",
    "            x2 = x1 + dx\n",
    "            y2 = y1 + dy\n",
    "            out.append((x1 + 2, y1 + 2, x2 - 2, y2 - 2))\n",
    "    return (out, dx, dy)"
   ]
  },
  {
   "cell_type": "code",
   "execution_count": 3,
   "metadata": {
    "collapsed": true
   },
   "outputs": [],
   "source": [
    "def expandImage(image):\n",
    "    w, h = image.size\n",
    "    background = Image.new('RGB', (w+10, h+10), 'WHITE')\n",
    "    background.paste(image, (0,0), image)\n",
    "    return background"
   ]
  },
  {
   "cell_type": "code",
   "execution_count": 4,
   "metadata": {
    "collapsed": true
   },
   "outputs": [],
   "source": [
    "def splitImage(image, col, row, frames):\n",
    "    w, h = image.size\n",
    "    paddedImage = expandImage(image)\n",
    "    (crop_spec, dw, dh) = generateCoords(col, row, w, h)\n",
    "    imgs = [ paddedImage.crop(tup) for tup in crop_spec ][:frames]\n",
    "    nimgs = []\n",
    "    bg_w = dw * 110 // 100\n",
    "    bg_h = dh * 110 // 100\n",
    "    offset = ((bg_w - dw) // 2, (bg_h - dh) // 2)\n",
    "    bgSize = (bg_w, bg_h)\n",
    "    for i, img in enumerate(imgs):\n",
    "        background = Image.new('RGB', bgSize, 'WHITE')\n",
    "        background.paste(img, offset)\n",
    "        nimgs.append(background)\n",
    "    return nimgs"
   ]
  },
  {
   "cell_type": "code",
   "execution_count": 5,
   "metadata": {
    "collapsed": true
   },
   "outputs": [],
   "source": [
    "def makeGif(img, stickerId, col, row, frames, rate):\n",
    "    imageArr = splitImage(img, col, row, frames)\n",
    "    firstImage = imageArr[0]\n",
    "    del imageArr[0]\n",
    "    newFileName = './output/' + stickerId + '.gif'\n",
    "    firstImage.save(newFileName, 'GIF', save_all=True, append_images=imageArr, duration=rate, loop=0)"
   ]
  },
  {
   "cell_type": "code",
   "execution_count": 6,
   "metadata": {
    "collapsed": true
   },
   "outputs": [],
   "source": [
    "for filename in listdir('./input'):\n",
    "    filePath = join('./input', filename)\n",
    "    if not isfile(filePath):\n",
    "        continue\n",
    "    img = Image.open(filePath).convert('RGBA')\n",
    "    param = filename.replace('.png', '').split('_')\n",
    "    makeGif(img, param[0], int(param[1]), int(param[2]), int(param[3]), int(param[4]))"
   ]
  },
  {
   "cell_type": "code",
   "execution_count": 7,
   "metadata": {},
   "outputs": [],
   "source": [
    "#img = Image.open('./2041015576125916_5_4_20_83.png').convert('RGBA')\n",
    "#makeGif(img, '2041015576125916', 5, 4, 20, 83)"
   ]
  },
  {
   "cell_type": "code",
   "execution_count": null,
   "metadata": {
    "collapsed": true
   },
   "outputs": [],
   "source": []
  }
 ],
 "metadata": {
  "kernelspec": {
   "display_name": "Python 3",
   "language": "python",
   "name": "python3"
  },
  "language_info": {
   "codemirror_mode": {
    "name": "ipython",
    "version": 3
   },
   "file_extension": ".py",
   "mimetype": "text/x-python",
   "name": "python",
   "nbconvert_exporter": "python",
   "pygments_lexer": "ipython3",
   "version": "3.6.8"
  }
 },
 "nbformat": 4,
 "nbformat_minor": 2
}
