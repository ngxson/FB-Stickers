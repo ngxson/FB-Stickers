{
 "cells": [
  {
   "cell_type": "markdown",
   "metadata": {},
   "source": [
    "# Convert Facebook sticker to GIF\n",
    "\n",
    "Bạn cần có:\n",
    "- python 3\n",
    "- `pip install pillow`\n",
    "- Sticker đã download từ facebook (để trong thư mục **input**), có dạng tên file như sau:  \n",
    "`(StickerID)_(Tổng số cột)_(Tổng số hàng)_(Tổng số ảnh)_(Frame rate).png`"
   ]
  },
  {
   "cell_type": "code",
   "execution_count": null,
   "metadata": {},
   "outputs": [],
   "source": [
    "from PIL import Image\n",
    "from os import listdir\n",
    "from os.path import isfile, join"
   ]
  },
  {
   "cell_type": "code",
   "execution_count": null,
   "metadata": {},
   "outputs": [],
   "source": [
    "def generateCoords(tcol, trow, w, h):\n",
    "    out = []\n",
    "    dx = w / tcol\n",
    "    dy = h / trow\n",
    "    for row in range(0, trow):\n",
    "        for col in range(0, tcol):\n",
    "            x1 = col * dx\n",
    "            y1 = row * dy\n",
    "            x2 = x1 + dx\n",
    "            y2 = y1 + dy\n",
    "            out.append((x1, y1, x2, y2))\n",
    "    return out"
   ]
  },
  {
   "cell_type": "code",
   "execution_count": null,
   "metadata": {},
   "outputs": [],
   "source": [
    "def splitImage(image, col, row, frames):\n",
    "    w, h = image.size\n",
    "    crop_spec = generateCoords(col, row, w, h)\n",
    "    imgs = [ image.crop(tup) for tup in crop_spec ][:frames]\n",
    "    nimgs = []\n",
    "    for i, img in enumerate(imgs):\n",
    "        imgTransparent = Image.new('RGB', img.size, \"WHITE\")\n",
    "        imgTransparent.paste(img, (0,0), img)\n",
    "        nimgs.append(imgTransparent)\n",
    "    return nimgs"
   ]
  },
  {
   "cell_type": "code",
   "execution_count": null,
   "metadata": {},
   "outputs": [],
   "source": [
    "def makeGif(img, stickerId, col, row, frames, rate):\n",
    "    imageArr = splitImage(img, col, row, frames)\n",
    "    firstImage = imageArr[0]\n",
    "    del imageArr[0]\n",
    "    newFileName = './output/' + stickerId + '.gif'\n",
    "    firstImage.save(newFileName, 'GIF', save_all=True, append_images=imageArr, duration=rate, loop=0)"
   ]
  },
  {
   "cell_type": "code",
   "execution_count": null,
   "metadata": {},
   "outputs": [],
   "source": [
    "for filename in listdir('./input'):\n",
    "    filePath = join('./input', filename)\n",
    "    if not isfile(filePath):\n",
    "        continue\n",
    "    img = Image.open(filePath).convert('RGBA')\n",
    "    param = filename.replace('.png', '').split('_')\n",
    "    makeGif(img, param[0], int(param[1]), int(param[2]), int(param[3]), int(param[4]))"
   ]
  },
  {
   "cell_type": "code",
   "execution_count": null,
   "metadata": {
    "collapsed": true
   },
   "outputs": [],
   "source": []
  }
 ],
 "metadata": {
  "kernelspec": {
   "display_name": "Python 3",
   "language": "python",
   "name": "python3"
  },
  "language_info": {
   "codemirror_mode": {
    "name": "ipython",
    "version": 3
   },
   "file_extension": ".py",
   "mimetype": "text/x-python",
   "name": "python",
   "nbconvert_exporter": "python",
   "pygments_lexer": "ipython3",
   "version": "3.6.4"
  }
 },
 "nbformat": 4,
 "nbformat_minor": 2
}
